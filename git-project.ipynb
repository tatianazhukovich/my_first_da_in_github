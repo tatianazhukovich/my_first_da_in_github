{
 "cells": [
  {
   "cell_type": "code",
   "execution_count": 1,
   "id": "8abb1b6b-ee4c-4798-8a5c-49b474443463",
   "metadata": {},
   "outputs": [
    {
     "name": "stdout",
     "output_type": "stream",
     "text": [
      "On branch draft\n",
      "Untracked files:\n",
      "  (use \"git add <file>...\" to include in what will be committed)\n",
      "\t.ipynb_checkpoints/\n",
      "\tUntitled.ipynb\n",
      "\n",
      "nothing added to commit but untracked files present (use \"git add\" to track)\n"
     ]
    }
   ],
   "source": [
    "!git status"
   ]
  },
  {
   "cell_type": "code",
   "execution_count": 2,
   "id": "5f8f28bd-7023-4dae-a54e-238c84e64b03",
   "metadata": {},
   "outputs": [
    {
     "name": "stdout",
     "output_type": "stream",
     "text": [
      "* draft\n",
      "  master\n"
     ]
    }
   ],
   "source": [
    "!git branch"
   ]
  },
  {
   "cell_type": "code",
   "execution_count": 3,
   "id": "7dcd95d5-7668-4082-b2bf-1b3ee55dd4c8",
   "metadata": {},
   "outputs": [
    {
     "name": "stderr",
     "output_type": "stream",
     "text": [
      "Switched to branch 'master'\n"
     ]
    }
   ],
   "source": [
    "!git checkout master"
   ]
  },
  {
   "cell_type": "code",
   "execution_count": 4,
   "id": "a3a51738-f979-495f-9134-e6de0b88978b",
   "metadata": {},
   "outputs": [
    {
     "name": "stdout",
     "output_type": "stream",
     "text": [
      " ’®¬ ў гбва®©бвўҐ D ­Ґ Ё¬ҐҐв ¬ҐвЄЁ.\n",
      " ‘ҐаЁ©­л© ­®¬Ґа в®¬ : 8E9B-5CC0\n",
      "\n",
      " ‘®¤Ґа¦Ё¬®Ґ Ї ЇЄЁ D:\\da_project_git\n",
      "\n",
      "29.09.2024  19:58    <DIR>          .\n",
      "29.09.2024  19:58    <DIR>          ..\n",
      "29.09.2024  19:39                32 .gitignore\n",
      "29.09.2024  19:58    <DIR>          .ipynb_checkpoints\n",
      "29.09.2024  19:52             1я785 requirements.txt\n",
      "29.09.2024  19:58               337 Untitled.ipynb\n",
      "29.09.2024  19:44    <DIR>          ve\n",
      "               3 д ©«®ў          2я154 Ў ©в\n",
      "               4 Ї Ї®Є  227я318я403я072 Ў ©в бў®Ў®¤­®\n"
     ]
    }
   ],
   "source": [
    "!dir"
   ]
  },
  {
   "cell_type": "code",
   "execution_count": 5,
   "id": "fce6f8c3-2f75-4086-9bc4-5afcaaeb6e8e",
   "metadata": {},
   "outputs": [
    {
     "name": "stderr",
     "output_type": "stream",
     "text": [
      "Switched to branch 'draft'\n"
     ]
    }
   ],
   "source": [
    "!git checkout draft"
   ]
  },
  {
   "cell_type": "code",
   "execution_count": 6,
   "id": "ae7dabb6-4d0e-419c-a830-b50f941769fd",
   "metadata": {},
   "outputs": [],
   "source": [
    "import pandas as pd"
   ]
  },
  {
   "cell_type": "code",
   "execution_count": 7,
   "id": "7c09fcda-09c7-4f8b-8fc9-5b7b3805f79b",
   "metadata": {},
   "outputs": [],
   "source": [
    "fio = \"Zhukovich Tatsiana Olegovna\""
   ]
  },
  {
   "cell_type": "code",
   "execution_count": 8,
   "id": "54dc0a4c-d7e4-4c87-ad17-b9092832bdcc",
   "metadata": {},
   "outputs": [
    {
     "data": {
      "text/plain": [
       "['O',\n",
       " 'o',\n",
       " 'k',\n",
       " 'l',\n",
       " 'Z',\n",
       " 'i',\n",
       " 'T',\n",
       " 'a',\n",
       " 'n',\n",
       " 'c',\n",
       " ' ',\n",
       " 'v',\n",
       " 't',\n",
       " 's',\n",
       " 'u',\n",
       " 'e',\n",
       " 'h',\n",
       " 'g']"
      ]
     },
     "execution_count": 8,
     "metadata": {},
     "output_type": "execute_result"
    }
   ],
   "source": [
    "list(set(list(fio)))"
   ]
  },
  {
   "cell_type": "code",
   "execution_count": 10,
   "id": "e53bbd92-af74-48f8-929e-962f65826246",
   "metadata": {},
   "outputs": [
    {
     "data": {
      "text/plain": [
       "0     Z\n",
       "1     h\n",
       "2     u\n",
       "3     k\n",
       "4     o\n",
       "5     v\n",
       "6     i\n",
       "7     c\n",
       "8     h\n",
       "9      \n",
       "10    T\n",
       "11    a\n",
       "12    t\n",
       "13    s\n",
       "14    i\n",
       "15    a\n",
       "16    n\n",
       "17    a\n",
       "18     \n",
       "19    O\n",
       "20    l\n",
       "21    e\n",
       "22    g\n",
       "23    o\n",
       "24    v\n",
       "25    n\n",
       "26    a\n",
       "Name: FIO, dtype: object"
      ]
     },
     "execution_count": 10,
     "metadata": {},
     "output_type": "execute_result"
    }
   ],
   "source": [
    "s = pd.Series(list(fio), name='FIO')\n",
    "s"
   ]
  },
  {
   "cell_type": "code",
   "execution_count": 11,
   "id": "26ca9d08-3059-446b-ac0b-65d478c7a1f6",
   "metadata": {},
   "outputs": [
    {
     "data": {
      "text/html": [
       "<div>\n",
       "<style scoped>\n",
       "    .dataframe tbody tr th:only-of-type {\n",
       "        vertical-align: middle;\n",
       "    }\n",
       "\n",
       "    .dataframe tbody tr th {\n",
       "        vertical-align: top;\n",
       "    }\n",
       "\n",
       "    .dataframe thead th {\n",
       "        text-align: right;\n",
       "    }\n",
       "</style>\n",
       "<table border=\"1\" class=\"dataframe\">\n",
       "  <thead>\n",
       "    <tr style=\"text-align: right;\">\n",
       "      <th></th>\n",
       "      <th>FIO</th>\n",
       "    </tr>\n",
       "  </thead>\n",
       "  <tbody>\n",
       "    <tr>\n",
       "      <th>0</th>\n",
       "      <td>Z</td>\n",
       "    </tr>\n",
       "    <tr>\n",
       "      <th>1</th>\n",
       "      <td>h</td>\n",
       "    </tr>\n",
       "    <tr>\n",
       "      <th>2</th>\n",
       "      <td>u</td>\n",
       "    </tr>\n",
       "    <tr>\n",
       "      <th>3</th>\n",
       "      <td>k</td>\n",
       "    </tr>\n",
       "    <tr>\n",
       "      <th>4</th>\n",
       "      <td>o</td>\n",
       "    </tr>\n",
       "    <tr>\n",
       "      <th>5</th>\n",
       "      <td>v</td>\n",
       "    </tr>\n",
       "    <tr>\n",
       "      <th>6</th>\n",
       "      <td>i</td>\n",
       "    </tr>\n",
       "    <tr>\n",
       "      <th>7</th>\n",
       "      <td>c</td>\n",
       "    </tr>\n",
       "    <tr>\n",
       "      <th>8</th>\n",
       "      <td>h</td>\n",
       "    </tr>\n",
       "    <tr>\n",
       "      <th>9</th>\n",
       "      <td></td>\n",
       "    </tr>\n",
       "    <tr>\n",
       "      <th>10</th>\n",
       "      <td>T</td>\n",
       "    </tr>\n",
       "    <tr>\n",
       "      <th>11</th>\n",
       "      <td>a</td>\n",
       "    </tr>\n",
       "    <tr>\n",
       "      <th>12</th>\n",
       "      <td>t</td>\n",
       "    </tr>\n",
       "    <tr>\n",
       "      <th>13</th>\n",
       "      <td>s</td>\n",
       "    </tr>\n",
       "    <tr>\n",
       "      <th>14</th>\n",
       "      <td>i</td>\n",
       "    </tr>\n",
       "    <tr>\n",
       "      <th>15</th>\n",
       "      <td>a</td>\n",
       "    </tr>\n",
       "    <tr>\n",
       "      <th>16</th>\n",
       "      <td>n</td>\n",
       "    </tr>\n",
       "    <tr>\n",
       "      <th>17</th>\n",
       "      <td>a</td>\n",
       "    </tr>\n",
       "    <tr>\n",
       "      <th>18</th>\n",
       "      <td></td>\n",
       "    </tr>\n",
       "    <tr>\n",
       "      <th>19</th>\n",
       "      <td>O</td>\n",
       "    </tr>\n",
       "    <tr>\n",
       "      <th>20</th>\n",
       "      <td>l</td>\n",
       "    </tr>\n",
       "    <tr>\n",
       "      <th>21</th>\n",
       "      <td>e</td>\n",
       "    </tr>\n",
       "    <tr>\n",
       "      <th>22</th>\n",
       "      <td>g</td>\n",
       "    </tr>\n",
       "    <tr>\n",
       "      <th>23</th>\n",
       "      <td>o</td>\n",
       "    </tr>\n",
       "    <tr>\n",
       "      <th>24</th>\n",
       "      <td>v</td>\n",
       "    </tr>\n",
       "    <tr>\n",
       "      <th>25</th>\n",
       "      <td>n</td>\n",
       "    </tr>\n",
       "    <tr>\n",
       "      <th>26</th>\n",
       "      <td>a</td>\n",
       "    </tr>\n",
       "  </tbody>\n",
       "</table>\n",
       "</div>"
      ],
      "text/plain": [
       "   FIO\n",
       "0    Z\n",
       "1    h\n",
       "2    u\n",
       "3    k\n",
       "4    o\n",
       "5    v\n",
       "6    i\n",
       "7    c\n",
       "8    h\n",
       "9     \n",
       "10   T\n",
       "11   a\n",
       "12   t\n",
       "13   s\n",
       "14   i\n",
       "15   a\n",
       "16   n\n",
       "17   a\n",
       "18    \n",
       "19   O\n",
       "20   l\n",
       "21   e\n",
       "22   g\n",
       "23   o\n",
       "24   v\n",
       "25   n\n",
       "26   a"
      ]
     },
     "execution_count": 11,
     "metadata": {},
     "output_type": "execute_result"
    }
   ],
   "source": [
    "df = pd.DataFrame(s)\n",
    "df"
   ]
  },
  {
   "cell_type": "code",
   "execution_count": 12,
   "id": "08364261-6736-4184-b04f-c1dedc474e8f",
   "metadata": {},
   "outputs": [
    {
     "data": {
      "text/plain": [
       "FIO\n",
       "a    4\n",
       "h    2\n",
       "n    2\n",
       "v    2\n",
       "     2\n",
       "o    2\n",
       "i    2\n",
       "Z    1\n",
       "u    1\n",
       "k    1\n",
       "T    1\n",
       "c    1\n",
       "t    1\n",
       "s    1\n",
       "O    1\n",
       "l    1\n",
       "e    1\n",
       "g    1\n",
       "Name: count, dtype: int64"
      ]
     },
     "execution_count": 12,
     "metadata": {},
     "output_type": "execute_result"
    }
   ],
   "source": [
    "s.value_counts()"
   ]
  },
  {
   "cell_type": "code",
   "execution_count": 13,
   "id": "71220730-a2d5-4928-8b7d-fd8af9fc63c6",
   "metadata": {},
   "outputs": [
    {
     "data": {
      "text/plain": [
       "FIO\n",
       "a    4\n",
       "h    2\n",
       "n    2\n",
       "v    2\n",
       "     2\n",
       "o    2\n",
       "i    2\n",
       "Name: count, dtype: int64"
      ]
     },
     "execution_count": 13,
     "metadata": {},
     "output_type": "execute_result"
    }
   ],
   "source": [
    "s.value_counts()[s.value_counts()>1]"
   ]
  },
  {
   "cell_type": "code",
   "execution_count": 14,
   "id": "3273af1c-efe0-4905-8ebe-87e0f9133afa",
   "metadata": {},
   "outputs": [
    {
     "data": {
      "text/plain": [
       "FIO\n",
       "a    4\n",
       "h    2\n",
       "n    2\n",
       "v    2\n",
       "     2\n",
       "o    2\n",
       "i    2\n",
       "Z    1\n",
       "u    1\n",
       "k    1\n",
       "T    1\n",
       "c    1\n",
       "t    1\n",
       "s    1\n",
       "O    1\n",
       "l    1\n",
       "e    1\n",
       "g    1\n",
       "Name: count, dtype: int64"
      ]
     },
     "execution_count": 14,
     "metadata": {},
     "output_type": "execute_result"
    }
   ],
   "source": [
    "df['FIO'].value_counts()"
   ]
  },
  {
   "cell_type": "code",
   "execution_count": 20,
   "id": "0c60e49d-1aca-4fe6-bbaf-46ef2a7338e4",
   "metadata": {},
   "outputs": [],
   "source": [
    "df.to_csv('fio.csv')"
   ]
  },
  {
   "cell_type": "code",
   "execution_count": 21,
   "id": "6d498cc3-5ad7-42fb-b8b4-2eb4709dfb75",
   "metadata": {},
   "outputs": [
    {
     "name": "stdout",
     "output_type": "stream",
     "text": [
      "On branch draft\n",
      "Untracked files:\n",
      "  (use \"git add <file>...\" to include in what will be committed)\n",
      "\t.ipynb_checkpoints/\n",
      "\tfio.csv\n",
      "\tgit-project.ipynb\n",
      "\n",
      "nothing added to commit but untracked files present (use \"git add\" to track)\n"
     ]
    }
   ],
   "source": [
    "!git status"
   ]
  },
  {
   "cell_type": "code",
   "execution_count": 24,
   "id": "cd7792a3-6def-43db-b874-a1e466225283",
   "metadata": {},
   "outputs": [
    {
     "name": "stdout",
     "output_type": "stream",
     "text": [
      "On branch draft\n",
      "Untracked files:\n",
      "  (use \"git add <file>...\" to include in what will be committed)\n",
      "\t.ipynb_checkpoints/\n",
      "\tfio.csv\n",
      "\tgit-project.ipynb\n",
      "\n",
      "nothing added to commit but untracked files present (use \"git add\" to track)\n"
     ]
    }
   ],
   "source": [
    "!git commit -am \"release v0.1.0\""
   ]
  },
  {
   "cell_type": "code",
   "execution_count": 25,
   "id": "91cf973e-81a5-4645-8ad5-ccdaf7776e07",
   "metadata": {},
   "outputs": [
    {
     "name": "stdout",
     "output_type": "stream",
     "text": [
      "On branch draft\n",
      "Untracked files:\n",
      "  (use \"git add <file>...\" to include in what will be committed)\n",
      "\t.ipynb_checkpoints/\n",
      "\tfio.csv\n",
      "\tgit-project.ipynb\n",
      "\n",
      "nothing added to commit but untracked files present (use \"git add\" to track)\n"
     ]
    }
   ],
   "source": [
    "!git status"
   ]
  },
  {
   "cell_type": "code",
   "execution_count": 29,
   "id": "84b58ee3-8b0c-4663-b107-052a86450c71",
   "metadata": {},
   "outputs": [],
   "source": [
    "!git add *"
   ]
  },
  {
   "cell_type": "code",
   "execution_count": 30,
   "id": "503c8c08-6fcd-4638-9935-54d8dd596d58",
   "metadata": {},
   "outputs": [
    {
     "name": "stdout",
     "output_type": "stream",
     "text": [
      "On branch draft\n",
      "Changes to be committed:\n",
      "  (use \"git restore --staged <file>...\" to unstage)\n",
      "\tnew file:   .ipynb_checkpoints/git-project-checkpoint.ipynb\n",
      "\tnew file:   fio.csv\n",
      "\tnew file:   git-project.ipynb\n",
      "\n"
     ]
    }
   ],
   "source": [
    "!git status"
   ]
  },
  {
   "cell_type": "code",
   "execution_count": 31,
   "id": "efabdf6b-7d39-4d8f-9e47-79328858bd26",
   "metadata": {},
   "outputs": [
    {
     "name": "stdout",
     "output_type": "stream",
     "text": [
      "commit 1378eecd1bf379030e57c14bc838da744adc34d6\n",
      "Author: Tatsiana Zhukovich <tatiana.zhukovich27@gmail.com>\n",
      "Date:   Sun Sep 29 19:54:36 2024 +0300\n",
      "\n",
      "    project start with ve\n"
     ]
    }
   ],
   "source": [
    "!git log"
   ]
  },
  {
   "cell_type": "code",
   "execution_count": 32,
   "id": "cd0eb931-70e2-4abf-9093-28e2552a128b",
   "metadata": {},
   "outputs": [
    {
     "name": "stdout",
     "output_type": "stream",
     "text": [
      "[draft 5b0c689] release v0.1.0\n",
      " 3 files changed, 662 insertions(+)\n",
      " create mode 100644 .ipynb_checkpoints/git-project-checkpoint.ipynb\n",
      " create mode 100644 fio.csv\n",
      " create mode 100644 git-project.ipynb\n"
     ]
    }
   ],
   "source": [
    "!git commit -m \"release v0.1.0\""
   ]
  },
  {
   "cell_type": "code",
   "execution_count": 33,
   "id": "b0a7e1d8-518a-45fe-8b16-dfa9146cd6f3",
   "metadata": {},
   "outputs": [
    {
     "name": "stdout",
     "output_type": "stream",
     "text": [
      "commit 5b0c68991e62f12ff3d6742d54ef940b5381f004\n",
      "Author: Tatsiana Zhukovich <tatiana.zhukovich27@gmail.com>\n",
      "Date:   Sun Sep 29 20:11:43 2024 +0300\n",
      "\n",
      "    release v0.1.0\n",
      "\n",
      "commit 1378eecd1bf379030e57c14bc838da744adc34d6\n",
      "Author: Tatsiana Zhukovich <tatiana.zhukovich27@gmail.com>\n",
      "Date:   Sun Sep 29 19:54:36 2024 +0300\n",
      "\n",
      "    project start with ve\n"
     ]
    }
   ],
   "source": [
    "!git log"
   ]
  },
  {
   "cell_type": "code",
   "execution_count": 37,
   "id": "1b00bb50-e7b2-4131-b084-d23d9fd761b2",
   "metadata": {},
   "outputs": [
    {
     "name": "stderr",
     "output_type": "stream",
     "text": [
      "fatal: ambiguous argument 'release v0.1.0': unknown revision or path not in the working tree.\n",
      "Use '--' to separate paths from revisions, like this:\n",
      "'git <command> [<revision>...] -- [<file>...]'\n"
     ]
    }
   ],
   "source": [
    "!git reset \"release v0.1.0\""
   ]
  },
  {
   "cell_type": "code",
   "execution_count": 38,
   "id": "c3d417ed-b2e2-43c1-89f3-120ce308e07f",
   "metadata": {},
   "outputs": [
    {
     "name": "stdout",
     "output_type": "stream",
     "text": [
      "commit 5b0c68991e62f12ff3d6742d54ef940b5381f004\n",
      "Author: Tatsiana Zhukovich <tatiana.zhukovich27@gmail.com>\n",
      "Date:   Sun Sep 29 20:11:43 2024 +0300\n",
      "\n",
      "    release v0.1.0\n",
      "\n",
      "commit 1378eecd1bf379030e57c14bc838da744adc34d6\n",
      "Author: Tatsiana Zhukovich <tatiana.zhukovich27@gmail.com>\n",
      "Date:   Sun Sep 29 19:54:36 2024 +0300\n",
      "\n",
      "    project start with ve\n"
     ]
    }
   ],
   "source": [
    "!git log"
   ]
  },
  {
   "cell_type": "code",
   "execution_count": null,
   "id": "e974d77e-d1df-4537-8b8a-f97f5df45302",
   "metadata": {},
   "outputs": [],
   "source": []
  }
 ],
 "metadata": {
  "kernelspec": {
   "display_name": "Python 3 (ipykernel)",
   "language": "python",
   "name": "python3"
  },
  "language_info": {
   "codemirror_mode": {
    "name": "ipython",
    "version": 3
   },
   "file_extension": ".py",
   "mimetype": "text/x-python",
   "name": "python",
   "nbconvert_exporter": "python",
   "pygments_lexer": "ipython3",
   "version": "3.12.3"
  }
 },
 "nbformat": 4,
 "nbformat_minor": 5
}
